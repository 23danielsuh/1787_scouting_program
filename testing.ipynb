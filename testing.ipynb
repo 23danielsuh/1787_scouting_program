{
 "cells": [
  {
   "cell_type": "code",
   "execution_count": 42,
   "metadata": {},
   "outputs": [],
   "source": [
    "import pandas as pd"
   ]
  },
  {
   "cell_type": "code",
   "execution_count": 50,
   "metadata": {},
   "outputs": [
    {
     "data": {
      "text/html": [
       "<div>\n",
       "<style scoped>\n",
       "    .dataframe tbody tr th:only-of-type {\n",
       "        vertical-align: middle;\n",
       "    }\n",
       "\n",
       "    .dataframe tbody tr th {\n",
       "        vertical-align: top;\n",
       "    }\n",
       "\n",
       "    .dataframe thead th {\n",
       "        text-align: right;\n",
       "    }\n",
       "</style>\n",
       "<table border=\"1\" class=\"dataframe\">\n",
       "  <thead>\n",
       "    <tr style=\"text-align: right;\">\n",
       "      <th></th>\n",
       "      <th>Unnamed: 0</th>\n",
       "      <th>timestamp</th>\n",
       "      <th>name</th>\n",
       "      <th>team_number</th>\n",
       "      <th>match_number</th>\n",
       "      <th>leave_community</th>\n",
       "      <th>auto_cone_high</th>\n",
       "      <th>auto_cone_mid</th>\n",
       "      <th>auto_cone_low</th>\n",
       "      <th>auto_cube_high</th>\n",
       "      <th>...</th>\n",
       "      <th>tele_cone_low</th>\n",
       "      <th>tele_cube_high</th>\n",
       "      <th>tele_cube_mid</th>\n",
       "      <th>tele_cube_low</th>\n",
       "      <th>tele_balance</th>\n",
       "      <th>defense</th>\n",
       "      <th>num_links</th>\n",
       "      <th>comments</th>\n",
       "      <th>total_points</th>\n",
       "      <th>num_cycles</th>\n",
       "    </tr>\n",
       "  </thead>\n",
       "  <tbody>\n",
       "    <tr>\n",
       "      <th>0</th>\n",
       "      <td>0</td>\n",
       "      <td>1</td>\n",
       "      <td>daniel</td>\n",
       "      <td>1787</td>\n",
       "      <td>1</td>\n",
       "      <td>Yes</td>\n",
       "      <td>2</td>\n",
       "      <td>0</td>\n",
       "      <td>0</td>\n",
       "      <td>0</td>\n",
       "      <td>...</td>\n",
       "      <td>0</td>\n",
       "      <td>3</td>\n",
       "      <td>0</td>\n",
       "      <td>0</td>\n",
       "      <td>balanced</td>\n",
       "      <td>No</td>\n",
       "      <td>5</td>\n",
       "      <td>oeunthoentuhoenthutnoeu</td>\n",
       "      <td>52.0</td>\n",
       "      <td>NaN</td>\n",
       "    </tr>\n",
       "    <tr>\n",
       "      <th>1</th>\n",
       "      <td>1</td>\n",
       "      <td>1</td>\n",
       "      <td>ben</td>\n",
       "      <td>1787</td>\n",
       "      <td>2</td>\n",
       "      <td>Yes</td>\n",
       "      <td>0</td>\n",
       "      <td>0</td>\n",
       "      <td>0</td>\n",
       "      <td>0</td>\n",
       "      <td>...</td>\n",
       "      <td>0</td>\n",
       "      <td>0</td>\n",
       "      <td>0</td>\n",
       "      <td>0</td>\n",
       "      <td>none</td>\n",
       "      <td>Yes</td>\n",
       "      <td>1</td>\n",
       "      <td>ontehu</td>\n",
       "      <td>10.0</td>\n",
       "      <td>NaN</td>\n",
       "    </tr>\n",
       "  </tbody>\n",
       "</table>\n",
       "<p>2 rows × 25 columns</p>\n",
       "</div>"
      ],
      "text/plain": [
       "   Unnamed: 0  timestamp    name  team_number  match_number leave_community  \\\n",
       "0           0          1  daniel         1787             1             Yes   \n",
       "1           1          1     ben         1787             2             Yes   \n",
       "\n",
       "   auto_cone_high  auto_cone_mid  auto_cone_low  auto_cube_high  ...  \\\n",
       "0               2              0              0               0  ...   \n",
       "1               0              0              0               0  ...   \n",
       "\n",
       "   tele_cone_low  tele_cube_high tele_cube_mid  tele_cube_low  tele_balance  \\\n",
       "0              0               3             0              0      balanced   \n",
       "1              0               0             0              0          none   \n",
       "\n",
       "   defense  num_links                 comments  total_points num_cycles  \n",
       "0       No          5  oeunthoentuhoenthutnoeu          52.0        NaN  \n",
       "1      Yes          1                   ontehu          10.0        NaN  \n",
       "\n",
       "[2 rows x 25 columns]"
      ]
     },
     "execution_count": 50,
     "metadata": {},
     "output_type": "execute_result"
    }
   ],
   "source": [
    "df = pd.read_csv('wtf.csv')\n",
    "df.head()"
   ]
  },
  {
   "cell_type": "code",
   "execution_count": 51,
   "metadata": {},
   "outputs": [
    {
     "data": {
      "text/plain": [
       "0    52.0\n",
       "1    10.0\n",
       "Name: total_points, dtype: float64"
      ]
     },
     "execution_count": 51,
     "metadata": {},
     "output_type": "execute_result"
    }
   ],
   "source": [
    "df['total_points']"
   ]
  },
  {
   "cell_type": "code",
   "execution_count": null,
   "metadata": {},
   "outputs": [],
   "source": []
  }
 ],
 "metadata": {
  "kernelspec": {
   "display_name": "base",
   "language": "python",
   "name": "python3"
  },
  "language_info": {
   "codemirror_mode": {
    "name": "ipython",
    "version": 3
   },
   "file_extension": ".py",
   "mimetype": "text/x-python",
   "name": "python",
   "nbconvert_exporter": "python",
   "pygments_lexer": "ipython3",
   "version": "3.9.13"
  },
  "orig_nbformat": 4,
  "vscode": {
   "interpreter": {
    "hash": "b85d76eae94d144fd348e938832d946dcbb7bdd79d49968c996ea27c8b1e3cce"
   }
  }
 },
 "nbformat": 4,
 "nbformat_minor": 2
}
